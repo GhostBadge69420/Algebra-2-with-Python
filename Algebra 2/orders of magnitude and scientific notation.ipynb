{
 "cells": [
  {
   "cell_type": "code",
   "execution_count": 1,
   "metadata": {},
   "outputs": [],
   "source": [
    "import sympy as sym\n",
    "import numpy as np\n",
    "sym.init_printing()\n",
    "from IPython.display import display,Math\n",
    "from sympy.abc import x,y\n",
    "import math\n",
    "from math import gcd\n",
    "x,y = sym.symbols('x,y')\n",
    "import matplotlib.pyplot as plt\n",
    "import sympy.plotting.plot as symplot\n",
    "x,a = sym.symbols('x,a')\n",
    "from matplotlib.patches import Polygon\n",
    "from matplotlib import pyplot as plt\n",
    "import cmath as cm\n",
    "import scipy as sp"
   ]
  },
  {
   "cell_type": "code",
   "execution_count": 3,
   "metadata": {},
   "outputs": [
    {
     "data": {
      "text/plain": [
       "'3.984574e+09'"
      ]
     },
     "execution_count": 3,
     "metadata": {},
     "output_type": "execute_result"
    }
   ],
   "source": [
    "x = 3984573945\n",
    "\n",
    "'{:,e}'.format(x)"
   ]
  },
  {
   "cell_type": "code",
   "execution_count": 4,
   "metadata": {},
   "outputs": [
    {
     "data": {
      "text/plain": [
       "'3,984,573,945'"
      ]
     },
     "execution_count": 4,
     "metadata": {},
     "output_type": "execute_result"
    }
   ],
   "source": [
    "'{:,d}'.format(x)"
   ]
  },
  {
   "cell_type": "code",
   "execution_count": 5,
   "metadata": {},
   "outputs": [
    {
     "data": {
      "text/plain": [
       "'3984573945'"
      ]
     },
     "execution_count": 5,
     "metadata": {},
     "output_type": "execute_result"
    }
   ],
   "source": [
    "'%s'%x"
   ]
  },
  {
   "cell_type": "code",
   "execution_count": 7,
   "metadata": {},
   "outputs": [
    {
     "data": {
      "text/plain": [
       "'3.984574e+09'"
      ]
     },
     "execution_count": 7,
     "metadata": {},
     "output_type": "execute_result"
    }
   ],
   "source": [
    "'%e'%x"
   ]
  },
  {
   "cell_type": "code",
   "execution_count": 8,
   "metadata": {},
   "outputs": [
    {
     "data": {
      "text/plain": [
       "'3.984574e+09'"
      ]
     },
     "execution_count": 8,
     "metadata": {},
     "output_type": "execute_result"
    }
   ],
   "source": [
    "'%2e'%x"
   ]
  },
  {
   "cell_type": "code",
   "execution_count": 9,
   "metadata": {},
   "outputs": [
    {
     "data": {
      "text/plain": [
       "'3.984574e+09'"
      ]
     },
     "execution_count": 9,
     "metadata": {},
     "output_type": "execute_result"
    }
   ],
   "source": [
    "'%4e'%x"
   ]
  },
  {
   "cell_type": "code",
   "execution_count": 12,
   "metadata": {},
   "outputs": [
    {
     "name": "stdout",
     "output_type": "stream",
     "text": [
      "3.9846e+09\n"
     ]
    },
    {
     "data": {
      "text/plain": [
       "'3'"
      ]
     },
     "execution_count": 12,
     "metadata": {},
     "output_type": "execute_result"
    }
   ],
   "source": [
    "s = '%.4e' %x\n",
    "\n",
    "print(s)\n",
    "s[0]"
   ]
  },
  {
   "cell_type": "code",
   "execution_count": 13,
   "metadata": {},
   "outputs": [
    {
     "name": "stdout",
     "output_type": "stream",
     "text": [
      "3.9846e+09\n"
     ]
    },
    {
     "data": {
      "text/plain": [
       "'0'"
      ]
     },
     "execution_count": 13,
     "metadata": {},
     "output_type": "execute_result"
    }
   ],
   "source": [
    "s = '%.4e' %x\n",
    "\n",
    "print(s)\n",
    "s[-2]"
   ]
  },
  {
   "cell_type": "code",
   "execution_count": 14,
   "metadata": {},
   "outputs": [
    {
     "name": "stdout",
     "output_type": "stream",
     "text": [
      "3.9846e+09\n"
     ]
    },
    {
     "data": {
      "text/plain": [
       "'09'"
      ]
     },
     "execution_count": 14,
     "metadata": {},
     "output_type": "execute_result"
    }
   ],
   "source": [
    "s = '%.4e' %x\n",
    "\n",
    "print(s)\n",
    "s[-2:]"
   ]
  },
  {
   "attachments": {},
   "cell_type": "markdown",
   "metadata": {},
   "source": [
    "# Exercise\n",
    "\n",
    "print the nearest order of magnitude of a given number.\n",
    "\n",
    "2342 is 3 orders of magnitude,≈2*10**3"
   ]
  },
  {
   "cell_type": "code",
   "execution_count": 22,
   "metadata": {},
   "outputs": [
    {
     "data": {
      "text/latex": [
       "$\\displaystyle -2342 \\text{ is } 3 \\text{ orders of magnitude, } \\approx -2 \\times 10^{3}$"
      ],
      "text/plain": [
       "<IPython.core.display.Math object>"
      ]
     },
     "metadata": {},
     "output_type": "display_data"
    }
   ],
   "source": [
    "num = -2342\n",
    "\n",
    "# get the order of magnitude\n",
    "orderOfMag = int(np.floor(np.log10(abs(num))))\n",
    "\n",
    "# scientific notation\n",
    "numstr = '{:,e}'.format(num)\n",
    "wheredot = numstr.find('.')\n",
    "scinot = numstr[:wheredot]\n",
    "\n",
    "display(Math('%s \\\\text{ is } %s \\\\text{ orders of magnitude, } \\\\approx %s \\\\times 10^{%g}' \\\n",
    "             %(num,orderOfMag,scinot,orderOfMag )))"
   ]
  },
  {
   "cell_type": "code",
   "execution_count": 16,
   "metadata": {},
   "outputs": [
    {
     "data": {
      "text/latex": [
       "$\\displaystyle 2342 \\text{ is } 3 \\text { orders of magnitude, } \\approx 2 \\times 10^{3}$"
      ],
      "text/plain": [
       "<IPython.core.display.Math object>"
      ]
     },
     "metadata": {},
     "output_type": "display_data"
    }
   ],
   "source": [
    "num = 2342\n",
    " \n",
    "s = \"%.0e\" % num\n",
    "s = s.split(\"e\")\n",
    "factor = int(s[0])\n",
    "ord_mag = int(s[1])\n",
    " \n",
    "display(Math(\"%s \\\\text{ is } %s \\\\text { orders of magnitude, } \\\\approx %s \\\\times 10^{%s}\" \n",
    "% (num, ord_mag, factor, ord_mag)))"
   ]
  },
  {
   "cell_type": "code",
   "execution_count": 25,
   "metadata": {},
   "outputs": [
    {
     "data": {
      "text/latex": [
       "$\\displaystyle 9999 \\text{ is } 3 \\text{ orders of magnitude, } \\approx 9 \\times 10^{3}$"
      ],
      "text/plain": [
       "<IPython.core.display.Math object>"
      ]
     },
     "metadata": {},
     "output_type": "display_data"
    }
   ],
   "source": [
    "num = 9999\n",
    "\n",
    "# get the order of magnitude\n",
    "orderOfMag = int(np.floor(np.log10(abs(num))))\n",
    "\n",
    "# scientific notation\n",
    "numstr = '{:,e}'.format(num)\n",
    "wheredot = numstr.find('.')\n",
    "scinot = numstr[:wheredot]\n",
    "\n",
    "display(Math('%s \\\\text{ is } %s \\\\text{ orders of magnitude, } \\\\approx %s \\\\times 10^{%g}' \\\n",
    "             %(num,orderOfMag,scinot,orderOfMag )))"
   ]
  },
  {
   "cell_type": "code",
   "execution_count": 15,
   "metadata": {},
   "outputs": [
    {
     "data": {
      "text/latex": [
       "$\\displaystyle 9999 \\space is \\space 4 \\space \\text{orders of magnitude, } \\approx 1.0 \\times 10^{4}$"
      ],
      "text/plain": [
       "<IPython.core.display.Math object>"
      ]
     },
     "metadata": {},
     "output_type": "display_data"
    }
   ],
   "source": [
    "x = 9999\n",
    "sciNot = '%.1e' %x\n",
    "ooM = sciNot[-3:]\n",
    "mant = sciNot[:3]\n",
    " \n",
    "display(Math('%g \\\\space is \\\\space %g \\\\space \\\\text{orders of magnitude, } \\\\approx %s \\\\times 10^{%g}'\n",
    "             %(x, int(ooM), mant, int(ooM))))"
   ]
  },
  {
   "cell_type": "code",
   "execution_count": null,
   "metadata": {},
   "outputs": [],
   "source": []
  }
 ],
 "metadata": {
  "kernelspec": {
   "display_name": "base",
   "language": "python",
   "name": "python3"
  },
  "language_info": {
   "codemirror_mode": {
    "name": "ipython",
    "version": 3
   },
   "file_extension": ".py",
   "mimetype": "text/x-python",
   "name": "python",
   "nbconvert_exporter": "python",
   "pygments_lexer": "ipython3",
   "version": "3.10.9"
  },
  "orig_nbformat": 4
 },
 "nbformat": 4,
 "nbformat_minor": 2
}
