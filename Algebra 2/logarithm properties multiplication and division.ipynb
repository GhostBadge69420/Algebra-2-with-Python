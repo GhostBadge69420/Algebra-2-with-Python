{
 "cells": [
  {
   "cell_type": "code",
   "execution_count": 14,
   "metadata": {},
   "outputs": [],
   "source": [
    "import sympy as sym\n",
    "import numpy as np\n",
    "sym.init_printing()\n",
    "from IPython.display import display,Math\n",
    "from sympy.abc import x,y\n",
    "import math\n",
    "from math import gcd\n",
    "x,y = sym.symbols('x,y')\n",
    "import matplotlib.pyplot as plt\n",
    "import sympy.plotting.plot as symplot\n",
    "x,a = sym.symbols('x,a')\n",
    "from matplotlib.patches import Polygon\n",
    "from matplotlib import pyplot as plt\n",
    "import cmath as cm\n",
    "import scipy as sp"
   ]
  },
  {
   "cell_type": "code",
   "execution_count": 15,
   "metadata": {},
   "outputs": [
    {
     "data": {
      "text/latex": [
       "$\\displaystyle \\log(3\\times4) = 2.48491$"
      ],
      "text/plain": [
       "<IPython.core.display.Math object>"
      ]
     },
     "metadata": {},
     "output_type": "display_data"
    },
    {
     "data": {
      "text/latex": [
       "$\\displaystyle \\log(3)\\times\\log(4) = 1.523$"
      ],
      "text/plain": [
       "<IPython.core.display.Math object>"
      ]
     },
     "metadata": {},
     "output_type": "display_data"
    },
    {
     "data": {
      "text/latex": [
       "$\\displaystyle \\log(3) + \\log(4) = 2.48491$"
      ],
      "text/plain": [
       "<IPython.core.display.Math object>"
      ]
     },
     "metadata": {},
     "output_type": "display_data"
    },
    {
     "data": {
      "text/latex": [
       "$\\displaystyle \\log(3\\times4) = \\log(3) + \\log(4)$"
      ],
      "text/plain": [
       "<IPython.core.display.Math object>"
      ]
     },
     "metadata": {},
     "output_type": "display_data"
    },
    {
     "data": {
      "text/latex": [
       "$\\displaystyle \\log(3\\times4) \\neq \\log(3) \\times \\log(4)$"
      ],
      "text/plain": [
       "<IPython.core.display.Math object>"
      ]
     },
     "metadata": {},
     "output_type": "display_data"
    }
   ],
   "source": [
    "a = 3\n",
    "b = 4\n",
    "\n",
    "res1 = np.log(a*b)\n",
    "res2 = np.log(a) * np.log(b)\n",
    "res3 = np.log(a) + np.log(b)\n",
    "\n",
    "display(Math('\\\\log(%g\\\\times%g) = %g' %(a,b,res1)))\n",
    "display(Math('\\\\log(%g)\\\\times\\\\log(%g) = %g' %(a,b,res2)))\n",
    "display(Math('\\\\log(%g) + \\\\log(%g) = %g' %(a,b,res3)))\n",
    "\n",
    "display(Math('\\\\log(%g\\\\times%g) = \\\\log(%g) + \\\\log(%g)' %(a,b,a,b)))\n",
    "display(Math('\\\\log(%g\\\\times%g) \\\\neq \\\\log(%g) \\\\times \\\\log(%g)' %(a,b,a,b)))"
   ]
  },
  {
   "cell_type": "code",
   "execution_count": 16,
   "metadata": {},
   "outputs": [
    {
     "data": {
      "text/latex": [
       "$\\displaystyle \\log(\\frac{3}{4}) = 2.48491$"
      ],
      "text/plain": [
       "<IPython.core.display.Math object>"
      ]
     },
     "metadata": {},
     "output_type": "display_data"
    },
    {
     "data": {
      "text/latex": [
       "$\\displaystyle \\log(3)/\\log(4) = 0.792481$"
      ],
      "text/plain": [
       "<IPython.core.display.Math object>"
      ]
     },
     "metadata": {},
     "output_type": "display_data"
    },
    {
     "data": {
      "text/latex": [
       "$\\displaystyle \\log(3) - \\log(4) = -0.287682$"
      ],
      "text/plain": [
       "<IPython.core.display.Math object>"
      ]
     },
     "metadata": {},
     "output_type": "display_data"
    },
    {
     "data": {
      "text/latex": [
       "$\\displaystyle \\log{\\left( \\frac{3}{4} ) \\right)} = \\log(3) + \\log(4)$"
      ],
      "text/plain": [
       "<IPython.core.display.Math object>"
      ]
     },
     "metadata": {},
     "output_type": "display_data"
    },
    {
     "data": {
      "text/latex": [
       "$\\displaystyle \\log{\\left( \\frac{3}{4} \\right)} \\neq \\frac{\\log(3)}{\\log(4)}$"
      ],
      "text/plain": [
       "<IPython.core.display.Math object>"
      ]
     },
     "metadata": {},
     "output_type": "display_data"
    }
   ],
   "source": [
    "a = 3\n",
    "b = 4\n",
    "\n",
    "res1 = np.log(a*b)\n",
    "res2 = np.log(a) / np.log(b)\n",
    "res3 = np.log(a) - np.log(b)\n",
    "\n",
    "display(Math('\\\\log(\\\\frac{%g}{%g}) = %g' %(a,b,res1)))\n",
    "display(Math('\\\\log(%g)/\\\\log(%g) = %g' %(a,b,res2)))\n",
    "display(Math('\\\\log(%g) - \\\\log(%g) = %g' %(a,b,res3)))\n",
    "\n",
    "display(Math('\\\\log{\\\\left( \\\\frac{%g}{%g} ) \\\\right)} = \\\\log(%g) + \\\\log(%g)' %(a,b,a,b)))\n",
    "display(Math('\\\\log{\\\\left( \\\\frac{%g}{%g} \\\\right)} \\\\neq \\\\frac{\\\\log(%g)}{\\\\log(%g)}' %(a,b,a,b)))"
   ]
  },
  {
   "attachments": {},
   "cell_type": "markdown",
   "metadata": {},
   "source": [
    "# Exercise\n",
    "\n",
    "log(a^b) = blog(a)"
   ]
  },
  {
   "cell_type": "code",
   "execution_count": 17,
   "metadata": {},
   "outputs": [
    {
     "name": "stdout",
     "output_type": "stream",
     "text": [
      "4.394449154672439 1.0986122886681098 4.394449154672439\n"
     ]
    }
   ],
   "source": [
    "expr1 = np.log(a**b)\n",
    "expr2 = np.log(a)\n",
    "expr3 = np.log(a) + np.log(a) + np.log(a) + np.log(a)\n",
    "\n",
    "print(expr1,expr2,expr3)"
   ]
  }
 ],
 "metadata": {
  "kernelspec": {
   "display_name": "base",
   "language": "python",
   "name": "python3"
  },
  "language_info": {
   "codemirror_mode": {
    "name": "ipython",
    "version": 3
   },
   "file_extension": ".py",
   "mimetype": "text/x-python",
   "name": "python",
   "nbconvert_exporter": "python",
   "pygments_lexer": "ipython3",
   "version": "3.10.9"
  },
  "orig_nbformat": 4
 },
 "nbformat": 4,
 "nbformat_minor": 2
}
